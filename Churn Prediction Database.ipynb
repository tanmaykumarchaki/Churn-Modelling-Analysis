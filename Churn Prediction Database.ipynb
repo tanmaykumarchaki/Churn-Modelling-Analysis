{
 "cells": [
  {
   "cell_type": "code",
   "execution_count": 79,
   "id": "f8bdcb55-8c0b-4561-8629-2e7f04295b67",
   "metadata": {},
   "outputs": [],
   "source": [
    "import pandas as pd  \n",
    "import sqlite3"
   ]
  },
  {
   "cell_type": "code",
   "execution_count": 80,
   "id": "85816f5e-5988-4f4a-b029-6f74c9a754ed",
   "metadata": {},
   "outputs": [
    {
     "data": {
      "text/html": [
       "<div>\n",
       "<style scoped>\n",
       "    .dataframe tbody tr th:only-of-type {\n",
       "        vertical-align: middle;\n",
       "    }\n",
       "\n",
       "    .dataframe tbody tr th {\n",
       "        vertical-align: top;\n",
       "    }\n",
       "\n",
       "    .dataframe thead th {\n",
       "        text-align: right;\n",
       "    }\n",
       "</style>\n",
       "<table border=\"1\" class=\"dataframe\">\n",
       "  <thead>\n",
       "    <tr style=\"text-align: right;\">\n",
       "      <th></th>\n",
       "      <th>RowNumber</th>\n",
       "      <th>CustomerId</th>\n",
       "      <th>Surname</th>\n",
       "      <th>CreditScore</th>\n",
       "      <th>Geography</th>\n",
       "      <th>Gender</th>\n",
       "      <th>Age</th>\n",
       "      <th>Tenure</th>\n",
       "      <th>Balance</th>\n",
       "      <th>NumOfProducts</th>\n",
       "      <th>HasCrCard</th>\n",
       "      <th>IsActiveMember</th>\n",
       "      <th>EstimatedSalary</th>\n",
       "      <th>Exited</th>\n",
       "    </tr>\n",
       "  </thead>\n",
       "  <tbody>\n",
       "    <tr>\n",
       "      <th>0</th>\n",
       "      <td>1</td>\n",
       "      <td>15634602</td>\n",
       "      <td>Hargrave</td>\n",
       "      <td>619</td>\n",
       "      <td>France</td>\n",
       "      <td>Female</td>\n",
       "      <td>42.0</td>\n",
       "      <td>2</td>\n",
       "      <td>0.00</td>\n",
       "      <td>1</td>\n",
       "      <td>1.0</td>\n",
       "      <td>1.0</td>\n",
       "      <td>101348.88</td>\n",
       "      <td>1</td>\n",
       "    </tr>\n",
       "    <tr>\n",
       "      <th>1</th>\n",
       "      <td>2</td>\n",
       "      <td>15647311</td>\n",
       "      <td>Hill</td>\n",
       "      <td>608</td>\n",
       "      <td>Spain</td>\n",
       "      <td>Female</td>\n",
       "      <td>41.0</td>\n",
       "      <td>1</td>\n",
       "      <td>83807.86</td>\n",
       "      <td>1</td>\n",
       "      <td>0.0</td>\n",
       "      <td>1.0</td>\n",
       "      <td>112542.58</td>\n",
       "      <td>0</td>\n",
       "    </tr>\n",
       "    <tr>\n",
       "      <th>2</th>\n",
       "      <td>3</td>\n",
       "      <td>15619304</td>\n",
       "      <td>Onio</td>\n",
       "      <td>502</td>\n",
       "      <td>France</td>\n",
       "      <td>Female</td>\n",
       "      <td>42.0</td>\n",
       "      <td>8</td>\n",
       "      <td>159660.80</td>\n",
       "      <td>3</td>\n",
       "      <td>1.0</td>\n",
       "      <td>0.0</td>\n",
       "      <td>113931.57</td>\n",
       "      <td>1</td>\n",
       "    </tr>\n",
       "    <tr>\n",
       "      <th>3</th>\n",
       "      <td>4</td>\n",
       "      <td>15701354</td>\n",
       "      <td>Boni</td>\n",
       "      <td>699</td>\n",
       "      <td>France</td>\n",
       "      <td>Female</td>\n",
       "      <td>39.0</td>\n",
       "      <td>1</td>\n",
       "      <td>0.00</td>\n",
       "      <td>2</td>\n",
       "      <td>0.0</td>\n",
       "      <td>0.0</td>\n",
       "      <td>93826.63</td>\n",
       "      <td>0</td>\n",
       "    </tr>\n",
       "    <tr>\n",
       "      <th>4</th>\n",
       "      <td>5</td>\n",
       "      <td>15737888</td>\n",
       "      <td>Mitchell</td>\n",
       "      <td>850</td>\n",
       "      <td>Spain</td>\n",
       "      <td>Female</td>\n",
       "      <td>43.0</td>\n",
       "      <td>2</td>\n",
       "      <td>125510.82</td>\n",
       "      <td>1</td>\n",
       "      <td>NaN</td>\n",
       "      <td>1.0</td>\n",
       "      <td>79084.10</td>\n",
       "      <td>0</td>\n",
       "    </tr>\n",
       "    <tr>\n",
       "      <th>...</th>\n",
       "      <td>...</td>\n",
       "      <td>...</td>\n",
       "      <td>...</td>\n",
       "      <td>...</td>\n",
       "      <td>...</td>\n",
       "      <td>...</td>\n",
       "      <td>...</td>\n",
       "      <td>...</td>\n",
       "      <td>...</td>\n",
       "      <td>...</td>\n",
       "      <td>...</td>\n",
       "      <td>...</td>\n",
       "      <td>...</td>\n",
       "      <td>...</td>\n",
       "    </tr>\n",
       "    <tr>\n",
       "      <th>9997</th>\n",
       "      <td>9998</td>\n",
       "      <td>15584532</td>\n",
       "      <td>Liu</td>\n",
       "      <td>709</td>\n",
       "      <td>France</td>\n",
       "      <td>Female</td>\n",
       "      <td>36.0</td>\n",
       "      <td>7</td>\n",
       "      <td>0.00</td>\n",
       "      <td>1</td>\n",
       "      <td>0.0</td>\n",
       "      <td>1.0</td>\n",
       "      <td>42085.58</td>\n",
       "      <td>1</td>\n",
       "    </tr>\n",
       "    <tr>\n",
       "      <th>9998</th>\n",
       "      <td>9999</td>\n",
       "      <td>15682355</td>\n",
       "      <td>Sabbatini</td>\n",
       "      <td>772</td>\n",
       "      <td>Germany</td>\n",
       "      <td>Male</td>\n",
       "      <td>42.0</td>\n",
       "      <td>3</td>\n",
       "      <td>75075.31</td>\n",
       "      <td>2</td>\n",
       "      <td>1.0</td>\n",
       "      <td>0.0</td>\n",
       "      <td>92888.52</td>\n",
       "      <td>1</td>\n",
       "    </tr>\n",
       "    <tr>\n",
       "      <th>9999</th>\n",
       "      <td>9999</td>\n",
       "      <td>15682355</td>\n",
       "      <td>Sabbatini</td>\n",
       "      <td>772</td>\n",
       "      <td>Germany</td>\n",
       "      <td>Male</td>\n",
       "      <td>42.0</td>\n",
       "      <td>3</td>\n",
       "      <td>75075.31</td>\n",
       "      <td>2</td>\n",
       "      <td>1.0</td>\n",
       "      <td>0.0</td>\n",
       "      <td>92888.52</td>\n",
       "      <td>1</td>\n",
       "    </tr>\n",
       "    <tr>\n",
       "      <th>10000</th>\n",
       "      <td>10000</td>\n",
       "      <td>15628319</td>\n",
       "      <td>Walker</td>\n",
       "      <td>792</td>\n",
       "      <td>France</td>\n",
       "      <td>Female</td>\n",
       "      <td>28.0</td>\n",
       "      <td>4</td>\n",
       "      <td>130142.79</td>\n",
       "      <td>1</td>\n",
       "      <td>1.0</td>\n",
       "      <td>0.0</td>\n",
       "      <td>38190.78</td>\n",
       "      <td>0</td>\n",
       "    </tr>\n",
       "    <tr>\n",
       "      <th>10001</th>\n",
       "      <td>10000</td>\n",
       "      <td>15628319</td>\n",
       "      <td>Walker</td>\n",
       "      <td>792</td>\n",
       "      <td>France</td>\n",
       "      <td>Female</td>\n",
       "      <td>28.0</td>\n",
       "      <td>4</td>\n",
       "      <td>130142.79</td>\n",
       "      <td>1</td>\n",
       "      <td>1.0</td>\n",
       "      <td>0.0</td>\n",
       "      <td>38190.78</td>\n",
       "      <td>0</td>\n",
       "    </tr>\n",
       "  </tbody>\n",
       "</table>\n",
       "<p>10002 rows × 14 columns</p>\n",
       "</div>"
      ],
      "text/plain": [
       "       RowNumber  CustomerId    Surname  CreditScore Geography  Gender   Age  \\\n",
       "0              1    15634602   Hargrave          619    France  Female  42.0   \n",
       "1              2    15647311       Hill          608     Spain  Female  41.0   \n",
       "2              3    15619304       Onio          502    France  Female  42.0   \n",
       "3              4    15701354       Boni          699    France  Female  39.0   \n",
       "4              5    15737888   Mitchell          850     Spain  Female  43.0   \n",
       "...          ...         ...        ...          ...       ...     ...   ...   \n",
       "9997        9998    15584532        Liu          709    France  Female  36.0   \n",
       "9998        9999    15682355  Sabbatini          772   Germany    Male  42.0   \n",
       "9999        9999    15682355  Sabbatini          772   Germany    Male  42.0   \n",
       "10000      10000    15628319     Walker          792    France  Female  28.0   \n",
       "10001      10000    15628319     Walker          792    France  Female  28.0   \n",
       "\n",
       "       Tenure    Balance  NumOfProducts  HasCrCard  IsActiveMember  \\\n",
       "0           2       0.00              1        1.0             1.0   \n",
       "1           1   83807.86              1        0.0             1.0   \n",
       "2           8  159660.80              3        1.0             0.0   \n",
       "3           1       0.00              2        0.0             0.0   \n",
       "4           2  125510.82              1        NaN             1.0   \n",
       "...       ...        ...            ...        ...             ...   \n",
       "9997        7       0.00              1        0.0             1.0   \n",
       "9998        3   75075.31              2        1.0             0.0   \n",
       "9999        3   75075.31              2        1.0             0.0   \n",
       "10000       4  130142.79              1        1.0             0.0   \n",
       "10001       4  130142.79              1        1.0             0.0   \n",
       "\n",
       "       EstimatedSalary  Exited  \n",
       "0            101348.88       1  \n",
       "1            112542.58       0  \n",
       "2            113931.57       1  \n",
       "3             93826.63       0  \n",
       "4             79084.10       0  \n",
       "...                ...     ...  \n",
       "9997          42085.58       1  \n",
       "9998          92888.52       1  \n",
       "9999          92888.52       1  \n",
       "10000         38190.78       0  \n",
       "10001         38190.78       0  \n",
       "\n",
       "[10002 rows x 14 columns]"
      ]
     },
     "execution_count": 80,
     "metadata": {},
     "output_type": "execute_result"
    }
   ],
   "source": [
    "df = pd.read_csv('Churn_Modelling.csv')\n",
    "df"
   ]
  },
  {
   "cell_type": "code",
   "execution_count": 81,
   "id": "a3523a04-6382-4f0f-9d66-3e82d7f037d4",
   "metadata": {},
   "outputs": [
    {
     "name": "stdout",
     "output_type": "stream",
     "text": [
      "CSV has been connected to Database\n"
     ]
    }
   ],
   "source": [
    "conn = sqlite3.connect('churn')\n",
    "df.to_sql('Churn',conn, if_exists =  'replace', index = False)\n",
    "print(\"CSV has been connected to Database\")"
   ]
  },
  {
   "cell_type": "code",
   "execution_count": 82,
   "id": "0cf0487d-c84c-4ebe-b1bf-4a4c159dcbf0",
   "metadata": {},
   "outputs": [
    {
     "name": "stdout",
     "output_type": "stream",
     "text": [
      "(1, 15634602, 'Hargrave', 619, 'France', 'Female', 42.0, 2, 0.0, 1, 1.0, 1.0, 101348.88, 1)\n",
      "(2, 15647311, 'Hill', 608, 'Spain', 'Female', 41.0, 1, 83807.86, 1, 0.0, 1.0, 112542.58, 0)\n",
      "(3, 15619304, 'Onio', 502, 'France', 'Female', 42.0, 8, 159660.8, 3, 1.0, 0.0, 113931.57, 1)\n",
      "(4, 15701354, 'Boni', 699, 'France', 'Female', 39.0, 1, 0.0, 2, 0.0, 0.0, 93826.63, 0)\n",
      "(5, 15737888, 'Mitchell', 850, 'Spain', 'Female', 43.0, 2, 125510.82, 1, None, 1.0, 79084.1, 0)\n",
      "(6, 15574012, 'Chu', 645, 'Spain', 'Male', 44.0, 8, 113755.78, 2, 1.0, 0.0, 149756.71, 1)\n",
      "(7, 15592531, 'Bartlett', 822, None, 'Male', 50.0, 7, 0.0, 2, 1.0, 1.0, 10062.8, 0)\n",
      "(8, 15656148, 'Obinna', 376, 'Germany', 'Female', 29.0, 4, 115046.74, 4, 1.0, 0.0, 119346.88, 1)\n",
      "(9, 15792365, 'He', 501, 'France', 'Male', 44.0, 4, 142051.07, 2, 0.0, None, 74940.5, 0)\n",
      "(10, 15592389, 'H?', 684, 'France', 'Male', None, 2, 134603.88, 1, 1.0, 1.0, 71725.73, 0)\n"
     ]
    }
   ],
   "source": [
    "cursor = conn.cursor()\n",
    "cursor.execute(\"SELECT * FROM Churn LIMIT 10;\")\n",
    "rows = cursor.fetchall()\n",
    "for row in rows:\n",
    "    print(row)"
   ]
  },
  {
   "cell_type": "code",
   "execution_count": 83,
   "id": "1ad6fa7f-1651-4b39-8203-035b7b5e20f6",
   "metadata": {},
   "outputs": [
    {
     "name": "stdout",
     "output_type": "stream",
     "text": [
      "GENDER CHURN ANALYSIS\n",
      "Gender = Male\n",
      "Total COUNT = 5458\n",
      "Total Churned = 899\n",
      "ChurnRate = 16.47%\n",
      "\n"
     ]
    }
   ],
   "source": [
    "cursor.execute(\"\"\"SELECT\n",
    "Gender,\n",
    "COUNT(*) AS Total,\n",
    "SUM(CASE WHEN Exited = 1 THEN 1 ELSE 0 END) AS Churned,\n",
    "ROUND(100.0* SUM(CASE WHEN Exited = 1 THEN 1 ELSE 0 END)/ COUNT(*),2) AS ChurnRate\n",
    "FROM Churn\n",
    "GROUP BY Gender\n",
    "ORDER BY ChurnRate DESC;\n",
    "\"\"\")\n",
    "results = cursor.fetchall()\n",
    "\n",
    "for row in results:\n",
    "    gender = row[0]\n",
    "    total =  row[1]\n",
    "    churned = row[2]\n",
    "    churnrate = row[3]\n",
    "    \n",
    "print(f\"\"\"GENDER CHURN ANALYSIS\n",
    "Gender = {gender}\n",
    "Total COUNT = {total}\n",
    "Total Churned = {churned}\n",
    "ChurnRate = {churnrate}%\n",
    "\"\"\")  "
   ]
  },
  {
   "cell_type": "code",
   "execution_count": 84,
   "id": "f22c992a-9f41-4032-9fec-10c2dbc98493",
   "metadata": {},
   "outputs": [
    {
     "name": "stdout",
     "output_type": "stream",
     "text": [
      "The Gender Churn is : Male and The Age Churn is : 244 \n"
     ]
    }
   ],
   "source": [
    "cursor.execute(\"\"\"SELECT \n",
    "    Gender,\n",
    "    COUNT(*) AS AgeChurnCount\n",
    "FROM Churn  \n",
    "WHERE Exited = 1 AND Age > 50\n",
    "GROUP BY Gender;\n",
    "\"\"\")\n",
    "\n",
    "results = cursor.fetchall()\n",
    "\n",
    "for row in results:\n",
    "    gender = row[0]\n",
    "    count = row[1]\n",
    "\n",
    "print(f\"The Gender Churn is : {gender} and The Age Churn is : {count} \")\n"
   ]
  },
  {
   "cell_type": "code",
   "execution_count": null,
   "id": "27858e68-a653-472c-b432-5b98fee5c5a5",
   "metadata": {},
   "outputs": [],
   "source": [
    "cursor.execute(\"\"\"SELECT\n",
    "Tenure,\n",
    "COUNT(*) AS Total,\n",
    "SUM(CASE WHEN Exited = 1 Then 1 ELSE 0 END) AS Churned,\n",
    "ROUND(100.0 * SUM(CASE WHEN Exited = 1 THEN 1 ELSE 0 END) / COUNT(*), 2) AS ChurnRate\n",
    "FROM Churn\n",
    "GROUP BY Tenure\n",
    "ORDER BY Tenure;\n",
    "\"\"\")\n",
    "\n",
    "results = cursor.fetchall()\n",
    "for row in results:\n",
    "    Tenure"
   ]
  },
  {
   "cell_type": "code",
   "execution_count": 85,
   "id": "f023e082-ba82-4a11-9fd5-61dca337dfc0",
   "metadata": {},
   "outputs": [
    {
     "name": "stdout",
     "output_type": "stream",
     "text": [
      "The Average Of the Customers is 38.92\n"
     ]
    }
   ],
   "source": [
    "cursor.execute(\"SELECT AVG(age) FROM Churn\")\n",
    "age = cursor.fetchone()[0]\n",
    "print(f\"The Average Of the Customers is {age:.2f}\")"
   ]
  },
  {
   "cell_type": "code",
   "execution_count": 86,
   "id": "d720a630-1130-45cb-9be9-cc9011fab334",
   "metadata": {},
   "outputs": [
    {
     "name": "stdout",
     "output_type": "stream",
     "text": [
      "The Average Salary of the Customers is 100083.33$\n"
     ]
    }
   ],
   "source": [
    "cursor.execute(\"\"\"SELECT AVG(EstimatedSalary) FROM Churn\n",
    "\"\"\")\n",
    "\n",
    "avg_salary = cursor.fetchone()[0]\n",
    "print(f\"The Average Salary of the Customers is {avg_salary:.2f}$\")"
   ]
  },
  {
   "cell_type": "code",
   "execution_count": 87,
   "id": "414b8377-22ae-4c5a-ad0f-51341676345d",
   "metadata": {},
   "outputs": [
    {
     "name": "stdout",
     "output_type": "stream",
     "text": [
      "TOP 5 AGES WITH HIGHEST CHURN\n",
      "    Age = 46.0\n",
      "    Count = 91\n",
      "    \n",
      "TOP 5 AGES WITH HIGHEST CHURN\n",
      "    Age = 40.0\n",
      "    Count = 89\n",
      "    \n",
      "TOP 5 AGES WITH HIGHEST CHURN\n",
      "    Age = 43.0\n",
      "    Count = 88\n",
      "    \n",
      "TOP 5 AGES WITH HIGHEST CHURN\n",
      "    Age = 45.0\n",
      "    Count = 87\n",
      "    \n",
      "TOP 5 AGES WITH HIGHEST CHURN\n",
      "    Age = 48.0\n",
      "    Count = 80\n",
      "    \n"
     ]
    }
   ],
   "source": [
    "cursor.execute(\"\"\" SELECT Age , COUNT(*) AS ChurnCount\n",
    "FROM Churn\n",
    "WHERE Exited = 1\n",
    "GROUP BY Age\n",
    "ORDER BY ChurnCount DESC\n",
    "LIMIT 5;\n",
    "\"\"\")\n",
    "\n",
    "results = cursor.fetchall()\n",
    "\n",
    "for row in results:\n",
    "    age = row[0]\n",
    "    count = row[1]\n",
    "    print(f\"\"\"TOP 5 AGES WITH HIGHEST CHURN\n",
    "    Age = {age}\n",
    "    Count = {count}\n",
    "    \"\"\")\n"
   ]
  },
  {
   "cell_type": "code",
   "execution_count": 88,
   "id": "0f01f08d-a60b-430b-a8fe-25f909e34460",
   "metadata": {},
   "outputs": [
    {
     "name": "stdout",
     "output_type": "stream",
     "text": [
      " TOP 5 CUSTOMERS WITH HIGHEST SALARY WHO CHURNED\n",
      "    Customer ID = 15815656\n",
      "    Geography = Germany\n",
      "    Gender = Female\n",
      "    Age = 39.0\n",
      "    Estimated Salary = 199808.1$\n",
      "    \n",
      " TOP 5 CUSTOMERS WITH HIGHEST SALARY WHO CHURNED\n",
      "    Customer ID = 15661670\n",
      "    Geography = Germany\n",
      "    Gender = Female\n",
      "    Age = 31.0\n",
      "    Estimated Salary = 199725.39$\n",
      "    \n",
      " TOP 5 CUSTOMERS WITH HIGHEST SALARY WHO CHURNED\n",
      "    Customer ID = 15672152\n",
      "    Geography = Germany\n",
      "    Gender = Male\n",
      "    Age = 37.0\n",
      "    Estimated Salary = 199693.84$\n",
      "    \n",
      " TOP 5 CUSTOMERS WITH HIGHEST SALARY WHO CHURNED\n",
      "    Customer ID = 15661903\n",
      "    Geography = France\n",
      "    Gender = Female\n",
      "    Age = 43.0\n",
      "    Estimated Salary = 199378.58$\n",
      "    \n",
      " TOP 5 CUSTOMERS WITH HIGHEST SALARY WHO CHURNED\n",
      "    Customer ID = 15755262\n",
      "    Geography = Spain\n",
      "    Gender = Female\n",
      "    Age = 41.0\n",
      "    Estimated Salary = 199304.74$\n",
      "    \n"
     ]
    }
   ],
   "source": [
    "cursor.execute(\"\"\"SELECT Customerid , Geography , Gender , Age , EstimatedSalary\n",
    "FROM Churn\n",
    "WHERE Exited = 1 \n",
    "ORDER BY EstimatedSalary DESC\n",
    "LIMIT 5;\n",
    "\"\"\")\n",
    "\n",
    "result = cursor.fetchall()\n",
    "\n",
    "for row in result:\n",
    "    ID_s = row[0]\n",
    "    Geography = row[1]\n",
    "    Gender = row[2]\n",
    "    Age = row[3]\n",
    "    Salary = row[4]\n",
    "    print(f\"\"\" TOP 5 CUSTOMERS WITH HIGHEST SALARY WHO CHURNED\n",
    "    Customer ID = {ID_s}\n",
    "    Geography = {Geography}\n",
    "    Gender = {Gender}\n",
    "    Age = {Age}\n",
    "    Estimated Salary = {Salary}$\n",
    "    \"\"\")\n"
   ]
  },
  {
   "cell_type": "code",
   "execution_count": 89,
   "id": "a3381087-a4a9-46a1-a624-4c5aa2b96b7e",
   "metadata": {},
   "outputs": [
    {
     "name": "stdout",
     "output_type": "stream",
     "text": [
      "The Average Credit Score by Customer is 650.56\n"
     ]
    }
   ],
   "source": [
    "cursor.execute(\"\"\"SELECT AVG(CreditScore) FROM Churn\n",
    "\"\"\")\n",
    "\n",
    "avg_cred_score = cursor.fetchone()[0]\n",
    "print(f\"The Average Credit Score by Customer is {avg_cred_score:.2f}\")"
   ]
  },
  {
   "cell_type": "code",
   "execution_count": 90,
   "id": "78e77756-9207-41ec-9d32-b38694b48324",
   "metadata": {},
   "outputs": [
    {
     "name": "stdout",
     "output_type": "stream",
     "text": [
      "The Country with Highest Retention is Germany\n"
     ]
    }
   ],
   "source": [
    "cursor.execute(\"\"\"SELECT Geography FROM Churn \n",
    "WHERE Exited = 0\n",
    "GROUP BY Geography\n",
    "ORDER BY AVG(Estimatedsalary) DESC\n",
    "LIMIT 1\n",
    ";\n",
    "\"\"\")\n",
    "\n",
    "high_exits = cursor.fetchone()[0]\n",
    "print(f\"The Country with Highest Retention is {high_exits}\")"
   ]
  },
  {
   "cell_type": "code",
   "execution_count": 91,
   "id": "e9e628ee-5820-4165-84f3-2e6f98cf33bf",
   "metadata": {},
   "outputs": [
    {
     "name": "stdout",
     "output_type": "stream",
     "text": [
      "The Country with Lowest Retention is Spain\n"
     ]
    }
   ],
   "source": [
    "cursor.execute(\"\"\"SELECT Geography FROM Churn\n",
    "WHERE Exited = 1\n",
    "GROUP BY Geography\n",
    "ORDER BY AVG(Estimatedsalary) DESC\n",
    "LIMIT 1\n",
    "\"\"\")\n",
    "low_exits = cursor.fetchone()[0]\n",
    "print(f\"The Country with Lowest Retention is {low_exits}\")\n"
   ]
  }
 ],
 "metadata": {
  "kernelspec": {
   "display_name": "Python [conda env:base] *",
   "language": "python",
   "name": "conda-base-py"
  },
  "language_info": {
   "codemirror_mode": {
    "name": "ipython",
    "version": 3
   },
   "file_extension": ".py",
   "mimetype": "text/x-python",
   "name": "python",
   "nbconvert_exporter": "python",
   "pygments_lexer": "ipython3",
   "version": "3.12.7"
  }
 },
 "nbformat": 4,
 "nbformat_minor": 5
}
